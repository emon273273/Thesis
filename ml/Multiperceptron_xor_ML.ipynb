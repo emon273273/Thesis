{
  "nbformat": 4,
  "nbformat_minor": 0,
  "metadata": {
    "colab": {
      "provenance": [],
      "include_colab_link": true
    },
    "kernelspec": {
      "name": "python3",
      "display_name": "Python 3"
    },
    "language_info": {
      "name": "python"
    }
  },
  "cells": [
    {
      "cell_type": "markdown",
      "metadata": {
        "id": "view-in-github",
        "colab_type": "text"
      },
      "source": [
        "<a href=\"https://colab.research.google.com/github/emon273273/Thesis/blob/Main/ml/Multiperceptron_xor_ML.ipynb\" target=\"_parent\"><img src=\"https://colab.research.google.com/assets/colab-badge.svg\" alt=\"Open In Colab\"/></a>"
      ]
    },
    {
      "cell_type": "markdown",
      "source": [
        "**Lab report 7**"
      ],
      "metadata": {
        "id": "TW1jeMUokLuI"
      }
    },
    {
      "cell_type": "markdown",
      "source": [
        "Training a Neural Network to Compute ‘XOR’ in scikit-learn"
      ],
      "metadata": {
        "id": "mDiAB01ZLrYC"
      }
    },
    {
      "cell_type": "code",
      "source": [
        "import numpy as np\n",
        "from sklearn.neural_network import MLPClassifier\n",
        "\n",
        "xs = np.array([[0,0],[0,1],[1,0],[1,1]])\n",
        "ys = np.array([0,1,1,0])\n",
        "\n",
        "model = MLPClassifier(activation='logistic', max_iter=10000, learning_rate_init=0.0001, hidden_layer_sizes=(3,))\n",
        "model.fit(xs, ys)\n",
        "\n",
        "print(\"score: \", model.score(xs, ys))\n",
        "print(\"predictions: \", model.predict(xs))\n",
        "print(\"expected: \", np.array([0, 1, 1, 0]))\n"
      ],
      "metadata": {
        "colab": {
          "base_uri": "https://localhost:8080/"
        },
        "id": "8Ig1lLj9rhiy",
        "outputId": "2e09c99c-9d57-4042-b846-59da61ab1db8"
      },
      "execution_count": null,
      "outputs": [
        {
          "output_type": "stream",
          "name": "stdout",
          "text": [
            "score:  0.5\n",
            "predictions:  [0 0 0 0]\n",
            "expected:  [0 1 1 0]\n"
          ]
        }
      ]
    },
    {
      "cell_type": "code",
      "source": [],
      "metadata": {
        "id": "TveZeljkKC6P"
      },
      "execution_count": null,
      "outputs": []
    },
    {
      "cell_type": "markdown",
      "source": [
        "Experiment with different activation functions and report your results."
      ],
      "metadata": {
        "id": "9woKwkYILj06"
      }
    },
    {
      "cell_type": "code",
      "source": [
        "import numpy as np\n",
        "from sklearn.neural_network import MLPClassifier\n",
        "\n",
        "xs = np.array([[0,0],[0,1],[1,0],[1,1]])\n",
        "ys = np.array([0,1,1,0])\n",
        "\n",
        "activation_functions = ['logistic', 'relu', 'tanh']\n",
        "\n",
        "for activation in activation_functions:\n",
        "    model = MLPClassifier(activation=activation, max_iter=10000, learning_rate_init=0.0001, hidden_layer_sizes=(3,))\n",
        "    model.fit(xs, ys)\n",
        "\n",
        "    print(f\"Activation Function: {activation}\")\n",
        "    print(\"Score: \", model.score(xs, ys))\n",
        "    print(\"Predictions: \", model.predict(xs))\n",
        "    print(\"Expected: \", np.array([0, 1, 1, 0]))\n",
        "    print()\n"
      ],
      "metadata": {
        "colab": {
          "base_uri": "https://localhost:8080/"
        },
        "id": "tYjqAzxI-GiI",
        "outputId": "106576df-f7b9-4d00-de91-7d57295d475d"
      },
      "execution_count": null,
      "outputs": [
        {
          "output_type": "stream",
          "name": "stdout",
          "text": [
            "Activation Function: logistic\n",
            "Score:  0.5\n",
            "Predictions:  [0 0 0 0]\n",
            "Expected:  [0 1 1 0]\n",
            "\n",
            "Activation Function: relu\n",
            "Score:  0.5\n",
            "Predictions:  [1 1 1 1]\n",
            "Expected:  [0 1 1 0]\n",
            "\n",
            "Activation Function: tanh\n",
            "Score:  0.5\n",
            "Predictions:  [1 1 1 1]\n",
            "Expected:  [0 1 1 0]\n",
            "\n"
          ]
        }
      ]
    },
    {
      "cell_type": "markdown",
      "source": [
        "Experiment with different learning rates and report your results."
      ],
      "metadata": {
        "id": "-axXwC6mLiUC"
      }
    },
    {
      "cell_type": "code",
      "source": [
        "import numpy as np\n",
        "from sklearn.neural_network import MLPClassifier\n",
        "\n",
        "\n",
        "xs = np.array([[0, 0], [0, 1], [1, 0], [1, 1]])\n",
        "ys = np.array([0, 1, 1, 0])\n",
        "\n",
        "learning_rates = [0.0001, 0.001, 0.01, 0.1, 1.0,1.5]\n",
        "\n",
        "\n",
        "for lr in learning_rates:\n",
        "    model = MLPClassifier(activation='logistic', max_iter=10000, learning_rate_init=lr, hidden_layer_sizes=(3,))\n",
        "    model.fit(xs, ys)\n",
        "    score = model.score(xs, ys)\n",
        "    predictions = model.predict(xs)\n",
        "\n",
        "\n",
        "    print(f\"Learning Rate: {lr}\")\n",
        "    print(\"Score: \", score)\n",
        "    print(\"Predictions: \", predictions)\n",
        "    print(\"Expected: \", np.array([0, 1, 1, 0]))\n",
        "    print()\n",
        "\n"
      ],
      "metadata": {
        "colab": {
          "base_uri": "https://localhost:8080/"
        },
        "id": "NmfaNnNL-TQr",
        "outputId": "e204b6a4-0180-4345-96c8-251da48a584b"
      },
      "execution_count": null,
      "outputs": [
        {
          "output_type": "stream",
          "name": "stdout",
          "text": [
            "Learning Rate: 0.0001\n",
            "Score:  0.5\n",
            "Predictions:  [0 0 0 0]\n",
            "Expected:  [0 1 1 0]\n",
            "\n",
            "Learning Rate: 0.001\n",
            "Score:  0.25\n",
            "Predictions:  [1 0 1 1]\n",
            "Expected:  [0 1 1 0]\n",
            "\n",
            "Learning Rate: 0.01\n",
            "Score:  0.5\n",
            "Predictions:  [1 1 1 1]\n",
            "Expected:  [0 1 1 0]\n",
            "\n",
            "Learning Rate: 0.1\n",
            "Score:  0.5\n",
            "Predictions:  [0 0 0 0]\n",
            "Expected:  [0 1 1 0]\n",
            "\n",
            "Learning Rate: 1.0\n",
            "Score:  0.75\n",
            "Predictions:  [0 1 1 1]\n",
            "Expected:  [0 1 1 0]\n",
            "\n",
            "Learning Rate: 1.5\n",
            "Score:  0.5\n",
            "Predictions:  [0 0 0 0]\n",
            "Expected:  [0 1 1 0]\n",
            "\n"
          ]
        }
      ]
    },
    {
      "cell_type": "markdown",
      "source": [
        "Experiment with a different number of iterations and report your results."
      ],
      "metadata": {
        "id": "K5F1dvsDMkEQ"
      }
    },
    {
      "cell_type": "code",
      "source": [
        "import numpy as np\n",
        "from sklearn.neural_network import MLPClassifier\n",
        "\n",
        "xs = np.array([[0, 0], [0, 1], [1, 0], [1, 1]])\n",
        "ys = np.array([0, 1, 1, 0])\n",
        "\n",
        "iterations = [10,50,100, 500, 1000, 5000, 10000, 20000,3030]\n",
        "\n",
        "for iter_count in iterations:\n",
        "    model = MLPClassifier(activation='logistic', max_iter=iter_count, learning_rate_init=0.0001, hidden_layer_sizes=(3,))\n",
        "    model.fit(xs, ys)\n",
        "\n",
        "    accuracy = model.score(xs, ys)\n",
        "    print(\"Iterations: {}, Accuracy: {:.2f}%\".format(iter_count, accuracy * 100))\n"
      ],
      "metadata": {
        "colab": {
          "base_uri": "https://localhost:8080/"
        },
        "id": "kco2vjwn-g42",
        "outputId": "48618f96-3b12-49df-ca5b-d02c0369a3d1"
      },
      "execution_count": null,
      "outputs": [
        {
          "output_type": "stream",
          "name": "stderr",
          "text": [
            "/usr/local/lib/python3.10/dist-packages/sklearn/neural_network/_multilayer_perceptron.py:686: ConvergenceWarning: Stochastic Optimizer: Maximum iterations (10) reached and the optimization hasn't converged yet.\n",
            "  warnings.warn(\n"
          ]
        },
        {
          "output_type": "stream",
          "name": "stdout",
          "text": [
            "Iterations: 10, Accuracy: 50.00%\n",
            "Iterations: 50, Accuracy: 50.00%\n",
            "Iterations: 100, Accuracy: 50.00%\n",
            "Iterations: 500, Accuracy: 25.00%\n",
            "Iterations: 1000, Accuracy: 50.00%\n",
            "Iterations: 5000, Accuracy: 50.00%\n",
            "Iterations: 10000, Accuracy: 75.00%\n",
            "Iterations: 20000, Accuracy: 50.00%\n",
            "Iterations: 3030, Accuracy: 50.00%\n"
          ]
        }
      ]
    },
    {
      "cell_type": "markdown",
      "source": [
        "Experiment with different numbers of layers and the number of neurons to find your solu-\n",
        "tions and report your results."
      ],
      "metadata": {
        "id": "S5xENKpqNnek"
      }
    },
    {
      "cell_type": "code",
      "source": [
        "\n",
        "xs = np.array([[0, 0], [0, 1], [1, 0], [1, 1]])\n",
        "ys = np.array([0, 1, 1, 0])\n",
        "\n",
        "\n",
        "layer_configs = [\n",
        "    (1,),          # Single layer with 1 neuron\n",
        "    (2,),          # Single layer with 2 neurons\n",
        "    (3,2),          # Single layer with 3 neurons\n",
        "    (2, 2),        # Two layers with 2 neurons each\n",
        "    (3, 3),        # Two layers with 3 neurons each\n",
        "    (2, 3, 2),     # Three layers with varying number of neurons\n",
        "]\n",
        "for config in layer_configs:\n",
        "    model = MLPClassifier(activation='logistic', max_iter=10000, learning_rate_init=0.001, hidden_layer_sizes=config)\n",
        "    model.fit(xs, ys)\n",
        "    score = model.score(xs, ys)\n",
        "    predictions = model.predict(xs)\n",
        "    print(f\"Layer Configuration: {config}\")\n",
        "    print(\"Score: \", score)\n",
        "    print(\"Predictions: \", predictions)\n",
        "    print(\"Expected: \", np.array([0, 1, 1, 0]))\n",
        "    print()\n"
      ],
      "metadata": {
        "colab": {
          "base_uri": "https://localhost:8080/"
        },
        "id": "QETKl3aw_Ea6",
        "outputId": "a0455f10-5bf0-4a4f-ce96-2c30b8f4fe15"
      },
      "execution_count": null,
      "outputs": [
        {
          "output_type": "stream",
          "name": "stdout",
          "text": [
            "Layer Configuration: (1,)\n",
            "Score:  0.5\n",
            "Predictions:  [0 0 0 0]\n",
            "Expected:  [0 1 1 0]\n",
            "\n",
            "Layer Configuration: (2,)\n",
            "Score:  0.5\n",
            "Predictions:  [1 1 1 1]\n",
            "Expected:  [0 1 1 0]\n",
            "\n",
            "Layer Configuration: (3,)\n",
            "Score:  0.5\n",
            "Predictions:  [0 0 0 0]\n",
            "Expected:  [0 1 1 0]\n",
            "\n",
            "Layer Configuration: (2, 2)\n",
            "Score:  0.5\n",
            "Predictions:  [1 1 1 1]\n",
            "Expected:  [0 1 1 0]\n",
            "\n",
            "Layer Configuration: (3, 3)\n",
            "Score:  0.5\n",
            "Predictions:  [0 0 0 0]\n",
            "Expected:  [0 1 1 0]\n",
            "\n",
            "Layer Configuration: (2, 3, 2)\n",
            "Score:  0.5\n",
            "Predictions:  [1 1 1 1]\n",
            "Expected:  [0 1 1 0]\n",
            "\n"
          ]
        }
      ]
    }
  ]
}