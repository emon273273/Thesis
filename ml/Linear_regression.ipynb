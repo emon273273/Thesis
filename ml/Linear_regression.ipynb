{
  "metadata": {
    "kernelspec": {
      "language": "python",
      "display_name": "Python 3",
      "name": "python3"
    },
    "language_info": {
      "name": "python",
      "version": "3.10.13",
      "mimetype": "text/x-python",
      "codemirror_mode": {
        "name": "ipython",
        "version": 3
      },
      "pygments_lexer": "ipython3",
      "nbconvert_exporter": "python",
      "file_extension": ".py"
    },
    "kaggle": {
      "accelerator": "none",
      "dataSources": [
        {
          "sourceId": 8336416,
          "sourceType": "datasetVersion",
          "datasetId": 4950968
        }
      ],
      "dockerImageVersionId": 30698,
      "isInternetEnabled": false,
      "language": "python",
      "sourceType": "notebook",
      "isGpuEnabled": false
    },
    "colab": {
      "name": "Linear_regression",
      "provenance": [],
      "include_colab_link": true
    }
  },
  "nbformat_minor": 0,
  "nbformat": 4,
  "cells": [
    {
      "cell_type": "markdown",
      "metadata": {
        "id": "view-in-github",
        "colab_type": "text"
      },
      "source": [
        "<a href=\"https://colab.research.google.com/github/emon273273/Thesis/blob/Main/ml/Linear_regression.ipynb\" target=\"_parent\"><img src=\"https://colab.research.google.com/assets/colab-badge.svg\" alt=\"Open In Colab\"/></a>"
      ]
    },
    {
      "source": [
        "\n",
        "# IMPORTANT: RUN THIS CELL IN ORDER TO IMPORT YOUR KAGGLE DATA SOURCES\n",
        "# TO THE CORRECT LOCATION (/kaggle/input) IN YOUR NOTEBOOK,\n",
        "# THEN FEEL FREE TO DELETE THIS CELL.\n",
        "# NOTE: THIS NOTEBOOK ENVIRONMENT DIFFERS FROM KAGGLE'S PYTHON\n",
        "# ENVIRONMENT SO THERE MAY BE MISSING LIBRARIES USED BY YOUR\n",
        "# NOTEBOOK.\n",
        "\n",
        "import os\n",
        "import sys\n",
        "from tempfile import NamedTemporaryFile\n",
        "from urllib.request import urlopen\n",
        "from urllib.parse import unquote, urlparse\n",
        "from urllib.error import HTTPError\n",
        "from zipfile import ZipFile\n",
        "import tarfile\n",
        "import shutil\n",
        "\n",
        "CHUNK_SIZE = 40960\n",
        "DATA_SOURCE_MAPPING = 'height-weight:https%3A%2F%2Fstorage.googleapis.com%2Fkaggle-data-sets%2F4950968%2F8336416%2Fbundle%2Farchive.zip%3FX-Goog-Algorithm%3DGOOG4-RSA-SHA256%26X-Goog-Credential%3Dgcp-kaggle-com%2540kaggle-161607.iam.gserviceaccount.com%252F20240506%252Fauto%252Fstorage%252Fgoog4_request%26X-Goog-Date%3D20240506T145111Z%26X-Goog-Expires%3D259200%26X-Goog-SignedHeaders%3Dhost%26X-Goog-Signature%3D50c7b7f86bcc725c49f54bd40c29b2beeaabaeb24d1d3cab44dbf0323b1c8b0212dade3077c9620e19ce6307a525b0fd158fd5a8753f1bc249e3fceb02a9fe9e2ff312bb825e69322b4700b06252a4657b4356c4fa7af20e247979916289f9e4be0e0c6d834cd20a00407e9223ce79cca7b9447f40b7cfcec3acbea69f5fce8844e450e28c0a0f10ec648dca66156b33ea62bee202859c81b82ec0b760559ff51d4a4b9ebf29981e04c9c9bab36244f71b062f800d7c5a99711b031dbd679d314ff2e03d4e6f95439a320e481f520e3b259ac6c6773462f12500b1d03ad800859ba227bb37d6d740a72d39a1421050a04d505c6774cd6a377cd3c0bab51f9d04'\n",
        "\n",
        "KAGGLE_INPUT_PATH='/kaggle/input'\n",
        "KAGGLE_WORKING_PATH='/kaggle/working'\n",
        "KAGGLE_SYMLINK='kaggle'\n",
        "\n",
        "!umount /kaggle/input/ 2> /dev/null\n",
        "shutil.rmtree('/kaggle/input', ignore_errors=True)\n",
        "os.makedirs(KAGGLE_INPUT_PATH, 0o777, exist_ok=True)\n",
        "os.makedirs(KAGGLE_WORKING_PATH, 0o777, exist_ok=True)\n",
        "\n",
        "try:\n",
        "  os.symlink(KAGGLE_INPUT_PATH, os.path.join(\"..\", 'input'), target_is_directory=True)\n",
        "except FileExistsError:\n",
        "  pass\n",
        "try:\n",
        "  os.symlink(KAGGLE_WORKING_PATH, os.path.join(\"..\", 'working'), target_is_directory=True)\n",
        "except FileExistsError:\n",
        "  pass\n",
        "\n",
        "for data_source_mapping in DATA_SOURCE_MAPPING.split(','):\n",
        "    directory, download_url_encoded = data_source_mapping.split(':')\n",
        "    download_url = unquote(download_url_encoded)\n",
        "    filename = urlparse(download_url).path\n",
        "    destination_path = os.path.join(KAGGLE_INPUT_PATH, directory)\n",
        "    try:\n",
        "        with urlopen(download_url) as fileres, NamedTemporaryFile() as tfile:\n",
        "            total_length = fileres.headers['content-length']\n",
        "            print(f'Downloading {directory}, {total_length} bytes compressed')\n",
        "            dl = 0\n",
        "            data = fileres.read(CHUNK_SIZE)\n",
        "            while len(data) > 0:\n",
        "                dl += len(data)\n",
        "                tfile.write(data)\n",
        "                done = int(50 * dl / int(total_length))\n",
        "                sys.stdout.write(f\"\\r[{'=' * done}{' ' * (50-done)}] {dl} bytes downloaded\")\n",
        "                sys.stdout.flush()\n",
        "                data = fileres.read(CHUNK_SIZE)\n",
        "            if filename.endswith('.zip'):\n",
        "              with ZipFile(tfile) as zfile:\n",
        "                zfile.extractall(destination_path)\n",
        "            else:\n",
        "              with tarfile.open(tfile.name) as tarfile:\n",
        "                tarfile.extractall(destination_path)\n",
        "            print(f'\\nDownloaded and uncompressed: {directory}')\n",
        "    except HTTPError as e:\n",
        "        print(f'Failed to load (likely expired) {download_url} to path {destination_path}')\n",
        "        continue\n",
        "    except OSError as e:\n",
        "        print(f'Failed to load {download_url} to path {destination_path}')\n",
        "        continue\n",
        "\n",
        "print('Data source import complete.')\n"
      ],
      "metadata": {
        "id": "tIHfCv-6Yzi5",
        "outputId": "62cbe7e3-f758-46e6-8b4c-a31956b7a9a2",
        "colab": {
          "base_uri": "https://localhost:8080/"
        }
      },
      "cell_type": "code",
      "outputs": [
        {
          "output_type": "stream",
          "name": "stdout",
          "text": [
            "Downloading height-weight, 285 bytes compressed\n",
            "\r[==================================================] 285 bytes downloaded\n",
            "Downloaded and uncompressed: height-weight\n",
            "Data source import complete.\n"
          ]
        }
      ],
      "execution_count": null
    },
    {
      "cell_type": "code",
      "source": [
        "# This Python 3 environment comes with many helpful analytics libraries installed\n",
        "# It is defined by the kaggle/python Docker image: https://github.com/kaggle/docker-python\n",
        "# For example, here's several helpful packages to load\n",
        "\n",
        "import numpy as np # linear algebra\n",
        "import pandas as pd # data processing, CSV file I/O (e.g. pd.read_csv)\n",
        "\n",
        "# Input data files are available in the read-only \"../input/\" directory\n",
        "# For example, running this (by clicking run or pressing Shift+Enter) will list all files under the input directory\n",
        "\n",
        "import os\n",
        "for dirname, _, filenames in os.walk('/kaggle/input'):\n",
        "    for filename in filenames:\n",
        "        print(os.path.join(dirname, filename))\n",
        "\n",
        "# You can write up to 20GB to the current directory (/kaggle/working/) that gets preserved as output when you create a version using \"Save & Run All\"\n",
        "# You can also write temporary files to /kaggle/temp/, but they won't be saved outside of the current session"
      ],
      "metadata": {
        "_uuid": "8f2839f25d086af736a60e9eeb907d3b93b6e0e5",
        "_cell_guid": "b1076dfc-b9ad-4769-8c92-a6c4dae69d19",
        "execution": {
          "iopub.status.busy": "2024-05-06T14:50:50.998897Z",
          "iopub.execute_input": "2024-05-06T14:50:51.000343Z",
          "iopub.status.idle": "2024-05-06T14:50:51.0135Z",
          "shell.execute_reply.started": "2024-05-06T14:50:51.000288Z",
          "shell.execute_reply": "2024-05-06T14:50:51.012143Z"
        },
        "trusted": true,
        "id": "bjCK5P8pYzi6",
        "outputId": "e5ac5fa7-207f-426c-cfd2-f98eaca26c7b",
        "colab": {
          "base_uri": "https://localhost:8080/"
        }
      },
      "execution_count": null,
      "outputs": [
        {
          "output_type": "stream",
          "name": "stdout",
          "text": [
            "/kaggle/input/height-weight/height-weight.csv\n"
          ]
        }
      ]
    },
    {
      "cell_type": "code",
      "source": [
        "import pandas as pd\n",
        "import matplotlib.pyplot as plt\n",
        "import numpy as np\n",
        "\n",
        "%matplotlib inline\n"
      ],
      "metadata": {
        "execution": {
          "iopub.status.busy": "2024-05-06T14:50:51.016227Z",
          "iopub.execute_input": "2024-05-06T14:50:51.017126Z",
          "iopub.status.idle": "2024-05-06T14:50:51.025849Z",
          "shell.execute_reply.started": "2024-05-06T14:50:51.017083Z",
          "shell.execute_reply": "2024-05-06T14:50:51.024064Z"
        },
        "trusted": true,
        "id": "NGxuVoNTYzi7"
      },
      "execution_count": null,
      "outputs": []
    },
    {
      "cell_type": "code",
      "source": [
        "df=pd.read_csv(\"/kaggle/input/height-weight/height-weight.csv\")\n",
        "df.head()"
      ],
      "metadata": {
        "execution": {
          "iopub.status.busy": "2024-05-06T14:50:51.028518Z",
          "iopub.execute_input": "2024-05-06T14:50:51.029095Z",
          "iopub.status.idle": "2024-05-06T14:50:51.05071Z",
          "shell.execute_reply.started": "2024-05-06T14:50:51.029039Z",
          "shell.execute_reply": "2024-05-06T14:50:51.048971Z"
        },
        "trusted": true,
        "id": "PD8n02Y2Yzi8",
        "outputId": "cb59cc29-5cf2-4e2f-9e3f-fba778191fa8",
        "colab": {
          "base_uri": "https://localhost:8080/",
          "height": 206
        }
      },
      "execution_count": null,
      "outputs": [
        {
          "output_type": "execute_result",
          "data": {
            "text/plain": [
              "   Weight  Height\n",
              "0      45     120\n",
              "1      58     135\n",
              "2      48     123\n",
              "3      60     145\n",
              "4      70     160"
            ],
            "text/html": [
              "\n",
              "  <div id=\"df-2e3a1b3a-3639-4ad1-b1b7-2c78eb088ce5\" class=\"colab-df-container\">\n",
              "    <div>\n",
              "<style scoped>\n",
              "    .dataframe tbody tr th:only-of-type {\n",
              "        vertical-align: middle;\n",
              "    }\n",
              "\n",
              "    .dataframe tbody tr th {\n",
              "        vertical-align: top;\n",
              "    }\n",
              "\n",
              "    .dataframe thead th {\n",
              "        text-align: right;\n",
              "    }\n",
              "</style>\n",
              "<table border=\"1\" class=\"dataframe\">\n",
              "  <thead>\n",
              "    <tr style=\"text-align: right;\">\n",
              "      <th></th>\n",
              "      <th>Weight</th>\n",
              "      <th>Height</th>\n",
              "    </tr>\n",
              "  </thead>\n",
              "  <tbody>\n",
              "    <tr>\n",
              "      <th>0</th>\n",
              "      <td>45</td>\n",
              "      <td>120</td>\n",
              "    </tr>\n",
              "    <tr>\n",
              "      <th>1</th>\n",
              "      <td>58</td>\n",
              "      <td>135</td>\n",
              "    </tr>\n",
              "    <tr>\n",
              "      <th>2</th>\n",
              "      <td>48</td>\n",
              "      <td>123</td>\n",
              "    </tr>\n",
              "    <tr>\n",
              "      <th>3</th>\n",
              "      <td>60</td>\n",
              "      <td>145</td>\n",
              "    </tr>\n",
              "    <tr>\n",
              "      <th>4</th>\n",
              "      <td>70</td>\n",
              "      <td>160</td>\n",
              "    </tr>\n",
              "  </tbody>\n",
              "</table>\n",
              "</div>\n",
              "    <div class=\"colab-df-buttons\">\n",
              "\n",
              "  <div class=\"colab-df-container\">\n",
              "    <button class=\"colab-df-convert\" onclick=\"convertToInteractive('df-2e3a1b3a-3639-4ad1-b1b7-2c78eb088ce5')\"\n",
              "            title=\"Convert this dataframe to an interactive table.\"\n",
              "            style=\"display:none;\">\n",
              "\n",
              "  <svg xmlns=\"http://www.w3.org/2000/svg\" height=\"24px\" viewBox=\"0 -960 960 960\">\n",
              "    <path d=\"M120-120v-720h720v720H120Zm60-500h600v-160H180v160Zm220 220h160v-160H400v160Zm0 220h160v-160H400v160ZM180-400h160v-160H180v160Zm440 0h160v-160H620v160ZM180-180h160v-160H180v160Zm440 0h160v-160H620v160Z\"/>\n",
              "  </svg>\n",
              "    </button>\n",
              "\n",
              "  <style>\n",
              "    .colab-df-container {\n",
              "      display:flex;\n",
              "      gap: 12px;\n",
              "    }\n",
              "\n",
              "    .colab-df-convert {\n",
              "      background-color: #E8F0FE;\n",
              "      border: none;\n",
              "      border-radius: 50%;\n",
              "      cursor: pointer;\n",
              "      display: none;\n",
              "      fill: #1967D2;\n",
              "      height: 32px;\n",
              "      padding: 0 0 0 0;\n",
              "      width: 32px;\n",
              "    }\n",
              "\n",
              "    .colab-df-convert:hover {\n",
              "      background-color: #E2EBFA;\n",
              "      box-shadow: 0px 1px 2px rgba(60, 64, 67, 0.3), 0px 1px 3px 1px rgba(60, 64, 67, 0.15);\n",
              "      fill: #174EA6;\n",
              "    }\n",
              "\n",
              "    .colab-df-buttons div {\n",
              "      margin-bottom: 4px;\n",
              "    }\n",
              "\n",
              "    [theme=dark] .colab-df-convert {\n",
              "      background-color: #3B4455;\n",
              "      fill: #D2E3FC;\n",
              "    }\n",
              "\n",
              "    [theme=dark] .colab-df-convert:hover {\n",
              "      background-color: #434B5C;\n",
              "      box-shadow: 0px 1px 3px 1px rgba(0, 0, 0, 0.15);\n",
              "      filter: drop-shadow(0px 1px 2px rgba(0, 0, 0, 0.3));\n",
              "      fill: #FFFFFF;\n",
              "    }\n",
              "  </style>\n",
              "\n",
              "    <script>\n",
              "      const buttonEl =\n",
              "        document.querySelector('#df-2e3a1b3a-3639-4ad1-b1b7-2c78eb088ce5 button.colab-df-convert');\n",
              "      buttonEl.style.display =\n",
              "        google.colab.kernel.accessAllowed ? 'block' : 'none';\n",
              "\n",
              "      async function convertToInteractive(key) {\n",
              "        const element = document.querySelector('#df-2e3a1b3a-3639-4ad1-b1b7-2c78eb088ce5');\n",
              "        const dataTable =\n",
              "          await google.colab.kernel.invokeFunction('convertToInteractive',\n",
              "                                                    [key], {});\n",
              "        if (!dataTable) return;\n",
              "\n",
              "        const docLinkHtml = 'Like what you see? Visit the ' +\n",
              "          '<a target=\"_blank\" href=https://colab.research.google.com/notebooks/data_table.ipynb>data table notebook</a>'\n",
              "          + ' to learn more about interactive tables.';\n",
              "        element.innerHTML = '';\n",
              "        dataTable['output_type'] = 'display_data';\n",
              "        await google.colab.output.renderOutput(dataTable, element);\n",
              "        const docLink = document.createElement('div');\n",
              "        docLink.innerHTML = docLinkHtml;\n",
              "        element.appendChild(docLink);\n",
              "      }\n",
              "    </script>\n",
              "  </div>\n",
              "\n",
              "\n",
              "<div id=\"df-a7206021-7027-4810-b05e-956e95173d84\">\n",
              "  <button class=\"colab-df-quickchart\" onclick=\"quickchart('df-a7206021-7027-4810-b05e-956e95173d84')\"\n",
              "            title=\"Suggest charts\"\n",
              "            style=\"display:none;\">\n",
              "\n",
              "<svg xmlns=\"http://www.w3.org/2000/svg\" height=\"24px\"viewBox=\"0 0 24 24\"\n",
              "     width=\"24px\">\n",
              "    <g>\n",
              "        <path d=\"M19 3H5c-1.1 0-2 .9-2 2v14c0 1.1.9 2 2 2h14c1.1 0 2-.9 2-2V5c0-1.1-.9-2-2-2zM9 17H7v-7h2v7zm4 0h-2V7h2v10zm4 0h-2v-4h2v4z\"/>\n",
              "    </g>\n",
              "</svg>\n",
              "  </button>\n",
              "\n",
              "<style>\n",
              "  .colab-df-quickchart {\n",
              "      --bg-color: #E8F0FE;\n",
              "      --fill-color: #1967D2;\n",
              "      --hover-bg-color: #E2EBFA;\n",
              "      --hover-fill-color: #174EA6;\n",
              "      --disabled-fill-color: #AAA;\n",
              "      --disabled-bg-color: #DDD;\n",
              "  }\n",
              "\n",
              "  [theme=dark] .colab-df-quickchart {\n",
              "      --bg-color: #3B4455;\n",
              "      --fill-color: #D2E3FC;\n",
              "      --hover-bg-color: #434B5C;\n",
              "      --hover-fill-color: #FFFFFF;\n",
              "      --disabled-bg-color: #3B4455;\n",
              "      --disabled-fill-color: #666;\n",
              "  }\n",
              "\n",
              "  .colab-df-quickchart {\n",
              "    background-color: var(--bg-color);\n",
              "    border: none;\n",
              "    border-radius: 50%;\n",
              "    cursor: pointer;\n",
              "    display: none;\n",
              "    fill: var(--fill-color);\n",
              "    height: 32px;\n",
              "    padding: 0;\n",
              "    width: 32px;\n",
              "  }\n",
              "\n",
              "  .colab-df-quickchart:hover {\n",
              "    background-color: var(--hover-bg-color);\n",
              "    box-shadow: 0 1px 2px rgba(60, 64, 67, 0.3), 0 1px 3px 1px rgba(60, 64, 67, 0.15);\n",
              "    fill: var(--button-hover-fill-color);\n",
              "  }\n",
              "\n",
              "  .colab-df-quickchart-complete:disabled,\n",
              "  .colab-df-quickchart-complete:disabled:hover {\n",
              "    background-color: var(--disabled-bg-color);\n",
              "    fill: var(--disabled-fill-color);\n",
              "    box-shadow: none;\n",
              "  }\n",
              "\n",
              "  .colab-df-spinner {\n",
              "    border: 2px solid var(--fill-color);\n",
              "    border-color: transparent;\n",
              "    border-bottom-color: var(--fill-color);\n",
              "    animation:\n",
              "      spin 1s steps(1) infinite;\n",
              "  }\n",
              "\n",
              "  @keyframes spin {\n",
              "    0% {\n",
              "      border-color: transparent;\n",
              "      border-bottom-color: var(--fill-color);\n",
              "      border-left-color: var(--fill-color);\n",
              "    }\n",
              "    20% {\n",
              "      border-color: transparent;\n",
              "      border-left-color: var(--fill-color);\n",
              "      border-top-color: var(--fill-color);\n",
              "    }\n",
              "    30% {\n",
              "      border-color: transparent;\n",
              "      border-left-color: var(--fill-color);\n",
              "      border-top-color: var(--fill-color);\n",
              "      border-right-color: var(--fill-color);\n",
              "    }\n",
              "    40% {\n",
              "      border-color: transparent;\n",
              "      border-right-color: var(--fill-color);\n",
              "      border-top-color: var(--fill-color);\n",
              "    }\n",
              "    60% {\n",
              "      border-color: transparent;\n",
              "      border-right-color: var(--fill-color);\n",
              "    }\n",
              "    80% {\n",
              "      border-color: transparent;\n",
              "      border-right-color: var(--fill-color);\n",
              "      border-bottom-color: var(--fill-color);\n",
              "    }\n",
              "    90% {\n",
              "      border-color: transparent;\n",
              "      border-bottom-color: var(--fill-color);\n",
              "    }\n",
              "  }\n",
              "</style>\n",
              "\n",
              "  <script>\n",
              "    async function quickchart(key) {\n",
              "      const quickchartButtonEl =\n",
              "        document.querySelector('#' + key + ' button');\n",
              "      quickchartButtonEl.disabled = true;  // To prevent multiple clicks.\n",
              "      quickchartButtonEl.classList.add('colab-df-spinner');\n",
              "      try {\n",
              "        const charts = await google.colab.kernel.invokeFunction(\n",
              "            'suggestCharts', [key], {});\n",
              "      } catch (error) {\n",
              "        console.error('Error during call to suggestCharts:', error);\n",
              "      }\n",
              "      quickchartButtonEl.classList.remove('colab-df-spinner');\n",
              "      quickchartButtonEl.classList.add('colab-df-quickchart-complete');\n",
              "    }\n",
              "    (() => {\n",
              "      let quickchartButtonEl =\n",
              "        document.querySelector('#df-a7206021-7027-4810-b05e-956e95173d84 button');\n",
              "      quickchartButtonEl.style.display =\n",
              "        google.colab.kernel.accessAllowed ? 'block' : 'none';\n",
              "    })();\n",
              "  </script>\n",
              "</div>\n",
              "\n",
              "    </div>\n",
              "  </div>\n"
            ],
            "application/vnd.google.colaboratory.intrinsic+json": {
              "type": "dataframe",
              "variable_name": "df",
              "summary": "{\n  \"name\": \"df\",\n  \"rows\": 23,\n  \"fields\": [\n    {\n      \"column\": \"Weight\",\n      \"properties\": {\n        \"dtype\": \"number\",\n        \"std\": 17,\n        \"min\": 45,\n        \"max\": 105,\n        \"num_unique_values\": 19,\n        \"samples\": [\n          45,\n          78,\n          100\n        ],\n        \"semantic_type\": \"\",\n        \"description\": \"\"\n      }\n    },\n    {\n      \"column\": \"Height\",\n      \"properties\": {\n        \"dtype\": \"number\",\n        \"std\": 19,\n        \"min\": 120,\n        \"max\": 183,\n        \"num_unique_values\": 18,\n        \"samples\": [\n          120,\n          135,\n          182\n        ],\n        \"semantic_type\": \"\",\n        \"description\": \"\"\n      }\n    }\n  ]\n}"
            }
          },
          "metadata": {},
          "execution_count": 4
        }
      ]
    },
    {
      "cell_type": "code",
      "source": [
        "plt.scatter(df['Weight'],df['Height'])\n",
        "plt.title(\"Weight Vs Height\")\n",
        "plt.xlabel(\"Weight\")\n",
        "plt.ylabel(\"Height\")\n",
        "plt.show()"
      ],
      "metadata": {
        "execution": {
          "iopub.status.busy": "2024-05-06T14:50:51.053741Z",
          "iopub.execute_input": "2024-05-06T14:50:51.054949Z",
          "iopub.status.idle": "2024-05-06T14:50:51.361566Z",
          "shell.execute_reply.started": "2024-05-06T14:50:51.054903Z",
          "shell.execute_reply": "2024-05-06T14:50:51.359943Z"
        },
        "trusted": true,
        "id": "GBouYhMaYzi8",
        "outputId": "68d415b0-d457-4b85-d4fc-4f46f86af55c",
        "colab": {
          "base_uri": "https://localhost:8080/",
          "height": 472
        }
      },
      "execution_count": null,
      "outputs": [
        {
          "output_type": "display_data",
          "data": {
            "text/plain": [
              "<Figure size 640x480 with 1 Axes>"
            ],
            "image/png": "[encoded data removed]"
          },
          "metadata": {}
        }
      ]
    },
    {
      "cell_type": "markdown",
      "source": [
        "Divided feature into independent and dependent"
      ],
      "metadata": {
        "id": "uVnPuT5xYzi9"
      }
    },
    {
      "cell_type": "code",
      "source": [
        "#independent feature\n",
        "X=df[['Weight']] #always  know that your independent feature should be data frame or 2 dimensonal\n",
        "\n",
        "np.array(X).shape\n"
      ],
      "metadata": {
        "execution": {
          "iopub.status.busy": "2024-05-06T14:50:51.3632Z",
          "iopub.execute_input": "2024-05-06T14:50:51.363593Z",
          "iopub.status.idle": "2024-05-06T14:50:51.376437Z",
          "shell.execute_reply.started": "2024-05-06T14:50:51.363561Z",
          "shell.execute_reply": "2024-05-06T14:50:51.374797Z"
        },
        "trusted": true,
        "id": "6adTLsqhYzi-",
        "outputId": "71c2331f-a14f-4743-80cf-9d1585f0dec3",
        "colab": {
          "base_uri": "https://localhost:8080/"
        }
      },
      "execution_count": null,
      "outputs": [
        {
          "output_type": "execute_result",
          "data": {
            "text/plain": [
              "(23, 1)"
            ]
          },
          "metadata": {},
          "execution_count": 6
        }
      ]
    },
    {
      "cell_type": "code",
      "source": [
        "#dependent\n",
        "y=df['Height']#we dont have to make 2 dimension because we have one dependent feature all time\n",
        "np.array(y).shape #1d array"
      ],
      "metadata": {
        "execution": {
          "iopub.status.busy": "2024-05-06T14:50:51.379244Z",
          "iopub.execute_input": "2024-05-06T14:50:51.380137Z",
          "iopub.status.idle": "2024-05-06T14:50:51.392288Z",
          "shell.execute_reply.started": "2024-05-06T14:50:51.380081Z",
          "shell.execute_reply": "2024-05-06T14:50:51.390389Z"
        },
        "trusted": true,
        "id": "RlVuZMl9YzjA",
        "outputId": "b78aa49f-0b57-467f-9977-71aab3b5ae20",
        "colab": {
          "base_uri": "https://localhost:8080/"
        }
      },
      "execution_count": null,
      "outputs": [
        {
          "output_type": "execute_result",
          "data": {
            "text/plain": [
              "(23,)"
            ]
          },
          "metadata": {},
          "execution_count": 7
        }
      ]
    },
    {
      "cell_type": "markdown",
      "source": [
        "**Train Test Split**"
      ],
      "metadata": {
        "id": "IjXqLBP6YzjB"
      }
    },
    {
      "cell_type": "code",
      "source": [
        "from sklearn.model_selection import train_test_split\n",
        "X_train,X_test,y_train,y_test=train_test_split(X,y,test_size=0.25,random_state=42)"
      ],
      "metadata": {
        "execution": {
          "iopub.status.busy": "2024-05-06T14:50:51.393925Z",
          "iopub.execute_input": "2024-05-06T14:50:51.394332Z",
          "iopub.status.idle": "2024-05-06T14:50:51.406543Z",
          "shell.execute_reply.started": "2024-05-06T14:50:51.394302Z",
          "shell.execute_reply": "2024-05-06T14:50:51.404719Z"
        },
        "trusted": true,
        "id": "xdEJHkbNYzjC"
      },
      "execution_count": null,
      "outputs": []
    },
    {
      "cell_type": "code",
      "source": [
        "X_train.shape"
      ],
      "metadata": {
        "execution": {
          "iopub.status.busy": "2024-05-06T14:50:51.40832Z",
          "iopub.execute_input": "2024-05-06T14:50:51.408737Z",
          "iopub.status.idle": "2024-05-06T14:50:51.418818Z",
          "shell.execute_reply.started": "2024-05-06T14:50:51.408705Z",
          "shell.execute_reply": "2024-05-06T14:50:51.417351Z"
        },
        "trusted": true,
        "id": "umgcvg_oYzjD",
        "outputId": "89906134-c316-4387-e6c2-31259c2e0367",
        "colab": {
          "base_uri": "https://localhost:8080/"
        }
      },
      "execution_count": null,
      "outputs": [
        {
          "output_type": "execute_result",
          "data": {
            "text/plain": [
              "(17, 1)"
            ]
          },
          "metadata": {},
          "execution_count": 9
        }
      ]
    },
    {
      "cell_type": "markdown",
      "source": [
        "# Standardization\n",
        "**In machine learning, standardization is a feature scaling technique that transforms data into a consistent format. It's often used as a pre-processing step before inputting data into machine learning models. The process of standardizing data improves the accuracy of machine learning algorithms**"
      ],
      "metadata": {
        "id": "zvgzTFUQYzjD"
      }
    },
    {
      "cell_type": "code",
      "source": [
        "#standardization\n",
        "from sklearn.preprocessing import StandardScaler\n"
      ],
      "metadata": {
        "execution": {
          "iopub.status.busy": "2024-05-06T14:50:51.42095Z",
          "iopub.execute_input": "2024-05-06T14:50:51.421656Z",
          "iopub.status.idle": "2024-05-06T14:50:51.428706Z",
          "shell.execute_reply.started": "2024-05-06T14:50:51.42161Z",
          "shell.execute_reply": "2024-05-06T14:50:51.427374Z"
        },
        "trusted": true,
        "id": "i4ryydEBYzjE"
      },
      "execution_count": null,
      "outputs": []
    },
    {
      "cell_type": "markdown",
      "source": [
        "![image.png](data:image/png;base64,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)"
      ],
      "metadata": {
        "id": "fNe2qlmaYzjF"
      }
    },
    {
      "cell_type": "code",
      "source": [
        "scaler=StandardScaler()\n",
        "X_train=scaler.fit_transform(X_train)\n"
      ],
      "metadata": {
        "execution": {
          "iopub.status.busy": "2024-05-06T14:50:51.434191Z",
          "iopub.execute_input": "2024-05-06T14:50:51.434662Z",
          "iopub.status.idle": "2024-05-06T14:50:51.446403Z",
          "shell.execute_reply.started": "2024-05-06T14:50:51.434629Z",
          "shell.execute_reply": "2024-05-06T14:50:51.444832Z"
        },
        "trusted": true,
        "id": "H2QoGA-FYzjF"
      },
      "execution_count": null,
      "outputs": []
    },
    {
      "cell_type": "code",
      "source": [
        "X_test=scaler.transform(X_test)\n",
        "X_test"
      ],
      "metadata": {
        "execution": {
          "iopub.status.busy": "2024-05-06T14:50:51.448736Z",
          "iopub.execute_input": "2024-05-06T14:50:51.449275Z",
          "iopub.status.idle": "2024-05-06T14:50:51.462168Z",
          "shell.execute_reply.started": "2024-05-06T14:50:51.449238Z",
          "shell.execute_reply": "2024-05-06T14:50:51.460971Z"
        },
        "trusted": true,
        "id": "ZnxIaNL8YzjG",
        "outputId": "8dd81509-eb70-4a18-94a5-8c15cb83597f",
        "colab": {
          "base_uri": "https://localhost:8080/"
        }
      },
      "execution_count": null,
      "outputs": [
        {
          "output_type": "execute_result",
          "data": {
            "text/plain": [
              "array([[ 0.33497168],\n",
              "       [ 0.33497168],\n",
              "       [-1.6641678 ],\n",
              "       [ 1.36483141],\n",
              "       [-0.45256812],\n",
              "       [ 1.97063125]])"
            ]
          },
          "metadata": {},
          "execution_count": 12
        }
      ]
    },
    {
      "cell_type": "markdown",
      "source": [
        "**Apply Machine learning algorithm Linear Regression**"
      ],
      "metadata": {
        "id": "pQS374EJYzjG"
      }
    },
    {
      "cell_type": "code",
      "source": [
        "from sklearn.linear_model import LinearRegression"
      ],
      "metadata": {
        "execution": {
          "iopub.status.busy": "2024-05-06T14:50:51.463328Z",
          "iopub.execute_input": "2024-05-06T14:50:51.463684Z",
          "iopub.status.idle": "2024-05-06T14:50:51.471324Z",
          "shell.execute_reply.started": "2024-05-06T14:50:51.463646Z",
          "shell.execute_reply": "2024-05-06T14:50:51.470215Z"
        },
        "trusted": true,
        "id": "kvQVBUVuYzjH"
      },
      "execution_count": null,
      "outputs": []
    },
    {
      "cell_type": "code",
      "source": [
        "regression=LinearRegression()\n",
        "regression.fit(X_train,y_train)"
      ],
      "metadata": {
        "execution": {
          "iopub.status.busy": "2024-05-06T14:50:51.472438Z",
          "iopub.execute_input": "2024-05-06T14:50:51.472846Z",
          "iopub.status.idle": "2024-05-06T14:50:51.489632Z",
          "shell.execute_reply.started": "2024-05-06T14:50:51.472803Z",
          "shell.execute_reply": "2024-05-06T14:50:51.487941Z"
        },
        "trusted": true,
        "id": "GekW_VoRYzjH",
        "outputId": "24a6fadd-67cf-436c-a278-54ae55dd6b17",
        "colab": {
          "base_uri": "https://localhost:8080/",
          "height": 75
        }
      },
      "execution_count": null,
      "outputs": [
        {
          "output_type": "execute_result",
          "data": {
            "text/plain": [
              "LinearRegression()"
            ],
            "text/html": [
              "<style>#sk-container-id-3 {color: black;background-color: white;}#sk-container-id-3 pre{padding: 0;}#sk-container-id-3 div.sk-toggleable {background-color: white;}#sk-container-id-3 label.sk-toggleable__label {cursor: pointer;display: block;width: 100%;margin-bottom: 0;padding: 0.3em;box-sizing: border-box;text-align: center;}#sk-container-id-3 label.sk-toggleable__label-arrow:before {content: \"▸\";float: left;margin-right: 0.25em;color: #696969;}#sk-container-id-3 label.sk-toggleable__label-arrow:hover:before {color: black;}#sk-container-id-3 div.sk-estimator:hover label.sk-toggleable__label-arrow:before {color: black;}#sk-container-id-3 div.sk-toggleable__content {max-height: 0;max-width: 0;overflow: hidden;text-align: left;background-color: #f0f8ff;}#sk-container-id-3 div.sk-toggleable__content pre {margin: 0.2em;color: black;border-radius: 0.25em;background-color: #f0f8ff;}#sk-container-id-3 input.sk-toggleable__control:checked~div.sk-toggleable__content {max-height: 200px;max-width: 100%;overflow: auto;}#sk-container-id-3 input.sk-toggleable__control:checked~label.sk-toggleable__label-arrow:before {content: \"▾\";}#sk-container-id-3 div.sk-estimator input.sk-toggleable__control:checked~label.sk-toggleable__label {background-color: #d4ebff;}#sk-container-id-3 div.sk-label input.sk-toggleable__control:checked~label.sk-toggleable__label {background-color: #d4ebff;}#sk-container-id-3 input.sk-hidden--visually {border: 0;clip: rect(1px 1px 1px 1px);clip: rect(1px, 1px, 1px, 1px);height: 1px;margin: -1px;overflow: hidden;padding: 0;position: absolute;width: 1px;}#sk-container-id-3 div.sk-estimator {font-family: monospace;background-color: #f0f8ff;border: 1px dotted black;border-radius: 0.25em;box-sizing: border-box;margin-bottom: 0.5em;}#sk-container-id-3 div.sk-estimator:hover {background-color: #d4ebff;}#sk-container-id-3 div.sk-parallel-item::after {content: \"\";width: 100%;border-bottom: 1px solid gray;flex-grow: 1;}#sk-container-id-3 div.sk-label:hover label.sk-toggleable__label {background-color: #d4ebff;}#sk-container-id-3 div.sk-serial::before {content: \"\";position: absolute;border-left: 1px solid gray;box-sizing: border-box;top: 0;bottom: 0;left: 50%;z-index: 0;}#sk-container-id-3 div.sk-serial {display: flex;flex-direction: column;align-items: center;background-color: white;padding-right: 0.2em;padding-left: 0.2em;position: relative;}#sk-container-id-3 div.sk-item {position: relative;z-index: 1;}#sk-container-id-3 div.sk-parallel {display: flex;align-items: stretch;justify-content: center;background-color: white;position: relative;}#sk-container-id-3 div.sk-item::before, #sk-container-id-3 div.sk-parallel-item::before {content: \"\";position: absolute;border-left: 1px solid gray;box-sizing: border-box;top: 0;bottom: 0;left: 50%;z-index: -1;}#sk-container-id-3 div.sk-parallel-item {display: flex;flex-direction: column;z-index: 1;position: relative;background-color: white;}#sk-container-id-3 div.sk-parallel-item:first-child::after {align-self: flex-end;width: 50%;}#sk-container-id-3 div.sk-parallel-item:last-child::after {align-self: flex-start;width: 50%;}#sk-container-id-3 div.sk-parallel-item:only-child::after {width: 0;}#sk-container-id-3 div.sk-dashed-wrapped {border: 1px dashed gray;margin: 0 0.4em 0.5em 0.4em;box-sizing: border-box;padding-bottom: 0.4em;background-color: white;}#sk-container-id-3 div.sk-label label {font-family: monospace;font-weight: bold;display: inline-block;line-height: 1.2em;}#sk-container-id-3 div.sk-label-container {text-align: center;}#sk-container-id-3 div.sk-container {/* jupyter's `normalize.less` sets `[hidden] { display: none; }` but bootstrap.min.css set `[hidden] { display: none !important; }` so we also need the `!important` here to be able to override the default hidden behavior on the sphinx rendered scikit-learn.org. See: https://github.com/scikit-learn/scikit-learn/issues/21755 */display: inline-block !important;position: relative;}#sk-container-id-3 div.sk-text-repr-fallback {display: none;}</style><div id=\"sk-container-id-3\" class=\"sk-top-container\"><div class=\"sk-text-repr-fallback\"><pre>LinearRegression()</pre><b>In a Jupyter environment, please rerun this cell to show the HTML representation or trust the notebook. <br />On GitHub, the HTML representation is unable to render, please try loading this page with nbviewer.org.</b></div><div class=\"sk-container\" hidden><div class=\"sk-item\"><div class=\"sk-estimator sk-toggleable\"><input class=\"sk-toggleable__control sk-hidden--visually\" id=\"sk-estimator-id-3\" type=\"checkbox\" checked><label for=\"sk-estimator-id-3\" class=\"sk-toggleable__label sk-toggleable__label-arrow\">LinearRegression</label><div class=\"sk-toggleable__content\"><pre>LinearRegression()</pre></div></div></div></div></div>"
            ]
          },
          "metadata": {},
          "execution_count": 18
        }
      ]
    },
    {
      "cell_type": "code",
      "source": [
        "print(\"coef is \",regression.coef_)\n",
        "print(\"intercept is \",regression.intercept_)"
      ],
      "metadata": {
        "id": "9exFdgEKZxEY",
        "outputId": "771af4a9-f791-434b-8560-3f434f408d07",
        "colab": {
          "base_uri": "https://localhost:8080/"
        }
      },
      "execution_count": null,
      "outputs": [
        {
          "output_type": "stream",
          "name": "stdout",
          "text": [
            "coef is  [17.2982057]\n",
            "intercept is  156.47058823529412\n"
          ]
        }
      ]
    },
    {
      "cell_type": "raw",
      "source": [
        "regression.fit(X_train,y_train)"
      ],
      "metadata": {
        "id": "6p2Jo-MdYzjH"
      }
    },
    {
      "cell_type": "code",
      "source": [
        "#plot Training data plot best fit line\n",
        "plt.scatter(X_train,y_train)\n",
        "plt.plot(X_train,regression.predict(X_train))"
      ],
      "metadata": {
        "execution": {
          "iopub.status.busy": "2024-05-06T14:50:51.491104Z",
          "iopub.execute_input": "2024-05-06T14:50:51.491494Z",
          "iopub.status.idle": "2024-05-06T14:50:51.910952Z",
          "shell.execute_reply.started": "2024-05-06T14:50:51.491463Z",
          "shell.execute_reply": "2024-05-06T14:50:51.908747Z"
        },
        "trusted": true,
        "id": "0p3WLHAhYzjI",
        "outputId": "74d87b23-fd07-43df-dd5f-dfe0624a9eeb",
        "colab": {
          "base_uri": "https://localhost:8080/",
          "height": 448
        }
      },
      "execution_count": null,
      "outputs": [
        {
          "output_type": "execute_result",
          "data": {
            "text/plain": [
              "[<matplotlib.lines.Line2D at 0x7b0571e7d720>]"
            ]
          },
          "metadata": {},
          "execution_count": 17
        },
        {
          "output_type": "display_data",
          "data": {
            "text/plain": [
              "<Figure size 640x480 with 1 Axes>"
            ],
            "image/png": "[encoded data removed]"
          },
          "metadata": {}
        }
      ]
    },
    {
      "cell_type": "markdown",
      "source": [
        "# Prediction for test Data\n"
      ],
      "metadata": {
        "id": "p4rUvWYHaTgR"
      }
    },
    {
      "cell_type": "markdown",
      "source": [],
      "metadata": {
        "id": "y478MEVTcK6x"
      }
    },
    {
      "cell_type": "code",
      "source": [
        "y_pred=regression.predict(X_test)\n"
      ],
      "metadata": {
        "id": "MzRHPtNSYzjI"
      },
      "execution_count": null,
      "outputs": []
    },
    {
      "cell_type": "markdown",
      "source": [
        "**Performance metrics**"
      ],
      "metadata": {
        "id": "vqRVgilwaqdS"
      }
    },
    {
      "cell_type": "code",
      "source": [
        "from sklearn.metrics import mean_squared_error\n",
        "mse=mean_squared_error(y_test,y_pred)\n",
        "\n",
        "print(mse)"
      ],
      "metadata": {
        "id": "MsKUM0BmanWw",
        "outputId": "415e211a-f96f-427d-d9d3-c23ba71db4eb",
        "colab": {
          "base_uri": "https://localhost:8080/"
        }
      },
      "execution_count": null,
      "outputs": [
        {
          "output_type": "stream",
          "name": "stdout",
          "text": [
            "114.84069295228699\n"
          ]
        }
      ]
    },
    {
      "cell_type": "markdown",
      "source": [
        "**Prediction for new data**"
      ],
      "metadata": {
        "id": "cniLsEMWbPY4"
      }
    },
    {
      "cell_type": "code",
      "source": [
        "regression.predict(scaler.transform([[72]])) #weight is 72 and his height is 155.977"
      ],
      "metadata": {
        "id": "wVTYL0zUbOO0",
        "outputId": "df4a343b-e54b-4ced-cf3c-9be84114f6f1",
        "colab": {
          "base_uri": "https://localhost:8080/"
        }
      },
      "execution_count": null,
      "outputs": [
        {
          "output_type": "stream",
          "name": "stderr",
          "text": [
            "/usr/local/lib/python3.10/dist-packages/sklearn/base.py:439: UserWarning: X does not have valid feature names, but StandardScaler was fitted with feature names\n",
            "  warnings.warn(\n"
          ]
        },
        {
          "output_type": "execute_result",
          "data": {
            "text/plain": [
              "array([155.97744705])"
            ]
          },
          "metadata": {},
          "execution_count": 30
        }
      ]
    },
    {
      "cell_type": "code",
      "source": [
        "print(\"emon\")"
      ],
      "metadata": {
        "id": "CTqo3j41bb1O",
        "outputId": "f409ec8c-1052-47ae-8819-1125acba9e73",
        "colab": {
          "base_uri": "https://localhost:8080/"
        }
      },
      "execution_count": 1,
      "outputs": [
        {
          "output_type": "stream",
          "name": "stdout",
          "text": [
            "emon\n"
          ]
        }
      ]
    }
  ]
}